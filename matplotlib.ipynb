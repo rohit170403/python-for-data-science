{
 "cells": [
  {
   "cell_type": "code",
   "execution_count": 6,
   "id": "ca587564",
   "metadata": {},
   "outputs": [
    {
     "data": {
      "text/html": [
       "<div>\n",
       "<style scoped>\n",
       "    .dataframe tbody tr th:only-of-type {\n",
       "        vertical-align: middle;\n",
       "    }\n",
       "\n",
       "    .dataframe tbody tr th {\n",
       "        vertical-align: top;\n",
       "    }\n",
       "\n",
       "    .dataframe thead th {\n",
       "        text-align: right;\n",
       "    }\n",
       "</style>\n",
       "<table border=\"1\" class=\"dataframe\">\n",
       "  <thead>\n",
       "    <tr style=\"text-align: right;\">\n",
       "      <th></th>\n",
       "      <th>Number</th>\n",
       "      <th>Name</th>\n",
       "      <th>Type_1</th>\n",
       "      <th>Type_2</th>\n",
       "      <th>Total</th>\n",
       "      <th>HP</th>\n",
       "      <th>Attack</th>\n",
       "      <th>Defense</th>\n",
       "      <th>Sp_Atk</th>\n",
       "      <th>Sp_Def</th>\n",
       "      <th>...</th>\n",
       "      <th>Color</th>\n",
       "      <th>hasGender</th>\n",
       "      <th>Pr_Male</th>\n",
       "      <th>Egg_Group_1</th>\n",
       "      <th>Egg_Group_2</th>\n",
       "      <th>hasMegaEvolution</th>\n",
       "      <th>Height_m</th>\n",
       "      <th>Weight_kg</th>\n",
       "      <th>Catch_Rate</th>\n",
       "      <th>Body_Style</th>\n",
       "    </tr>\n",
       "  </thead>\n",
       "  <tbody>\n",
       "    <tr>\n",
       "      <th>0</th>\n",
       "      <td>1</td>\n",
       "      <td>Bulbasaur</td>\n",
       "      <td>Grass</td>\n",
       "      <td>Poison</td>\n",
       "      <td>318</td>\n",
       "      <td>45</td>\n",
       "      <td>49</td>\n",
       "      <td>49</td>\n",
       "      <td>65</td>\n",
       "      <td>65</td>\n",
       "      <td>...</td>\n",
       "      <td>Green</td>\n",
       "      <td>True</td>\n",
       "      <td>0.875</td>\n",
       "      <td>Monster</td>\n",
       "      <td>Grass</td>\n",
       "      <td>False</td>\n",
       "      <td>0.71</td>\n",
       "      <td>6.9</td>\n",
       "      <td>45</td>\n",
       "      <td>quadruped</td>\n",
       "    </tr>\n",
       "    <tr>\n",
       "      <th>1</th>\n",
       "      <td>2</td>\n",
       "      <td>Ivysaur</td>\n",
       "      <td>Grass</td>\n",
       "      <td>Poison</td>\n",
       "      <td>405</td>\n",
       "      <td>60</td>\n",
       "      <td>62</td>\n",
       "      <td>63</td>\n",
       "      <td>80</td>\n",
       "      <td>80</td>\n",
       "      <td>...</td>\n",
       "      <td>Green</td>\n",
       "      <td>True</td>\n",
       "      <td>0.875</td>\n",
       "      <td>Monster</td>\n",
       "      <td>Grass</td>\n",
       "      <td>False</td>\n",
       "      <td>0.99</td>\n",
       "      <td>13.0</td>\n",
       "      <td>45</td>\n",
       "      <td>quadruped</td>\n",
       "    </tr>\n",
       "    <tr>\n",
       "      <th>2</th>\n",
       "      <td>3</td>\n",
       "      <td>Venusaur</td>\n",
       "      <td>Grass</td>\n",
       "      <td>Poison</td>\n",
       "      <td>525</td>\n",
       "      <td>80</td>\n",
       "      <td>82</td>\n",
       "      <td>83</td>\n",
       "      <td>100</td>\n",
       "      <td>100</td>\n",
       "      <td>...</td>\n",
       "      <td>Green</td>\n",
       "      <td>True</td>\n",
       "      <td>0.875</td>\n",
       "      <td>Monster</td>\n",
       "      <td>Grass</td>\n",
       "      <td>True</td>\n",
       "      <td>2.01</td>\n",
       "      <td>100.0</td>\n",
       "      <td>45</td>\n",
       "      <td>quadruped</td>\n",
       "    </tr>\n",
       "    <tr>\n",
       "      <th>3</th>\n",
       "      <td>4</td>\n",
       "      <td>Charmander</td>\n",
       "      <td>Fire</td>\n",
       "      <td>NaN</td>\n",
       "      <td>309</td>\n",
       "      <td>39</td>\n",
       "      <td>52</td>\n",
       "      <td>43</td>\n",
       "      <td>60</td>\n",
       "      <td>50</td>\n",
       "      <td>...</td>\n",
       "      <td>Red</td>\n",
       "      <td>True</td>\n",
       "      <td>0.875</td>\n",
       "      <td>Monster</td>\n",
       "      <td>Dragon</td>\n",
       "      <td>False</td>\n",
       "      <td>0.61</td>\n",
       "      <td>8.5</td>\n",
       "      <td>45</td>\n",
       "      <td>bipedal_tailed</td>\n",
       "    </tr>\n",
       "    <tr>\n",
       "      <th>4</th>\n",
       "      <td>5</td>\n",
       "      <td>Charmeleon</td>\n",
       "      <td>Fire</td>\n",
       "      <td>NaN</td>\n",
       "      <td>405</td>\n",
       "      <td>58</td>\n",
       "      <td>64</td>\n",
       "      <td>58</td>\n",
       "      <td>80</td>\n",
       "      <td>65</td>\n",
       "      <td>...</td>\n",
       "      <td>Red</td>\n",
       "      <td>True</td>\n",
       "      <td>0.875</td>\n",
       "      <td>Monster</td>\n",
       "      <td>Dragon</td>\n",
       "      <td>False</td>\n",
       "      <td>1.09</td>\n",
       "      <td>19.0</td>\n",
       "      <td>45</td>\n",
       "      <td>bipedal_tailed</td>\n",
       "    </tr>\n",
       "  </tbody>\n",
       "</table>\n",
       "<p>5 rows × 23 columns</p>\n",
       "</div>"
      ],
      "text/plain": [
       "   Number        Name Type_1  Type_2  Total  HP  Attack  Defense  Sp_Atk  \\\n",
       "0       1   Bulbasaur  Grass  Poison    318  45      49       49      65   \n",
       "1       2     Ivysaur  Grass  Poison    405  60      62       63      80   \n",
       "2       3    Venusaur  Grass  Poison    525  80      82       83     100   \n",
       "3       4  Charmander   Fire     NaN    309  39      52       43      60   \n",
       "4       5  Charmeleon   Fire     NaN    405  58      64       58      80   \n",
       "\n",
       "   Sp_Def  ...  Color  hasGender  Pr_Male Egg_Group_1  Egg_Group_2  \\\n",
       "0      65  ...  Green       True    0.875     Monster        Grass   \n",
       "1      80  ...  Green       True    0.875     Monster        Grass   \n",
       "2     100  ...  Green       True    0.875     Monster        Grass   \n",
       "3      50  ...    Red       True    0.875     Monster       Dragon   \n",
       "4      65  ...    Red       True    0.875     Monster       Dragon   \n",
       "\n",
       "   hasMegaEvolution Height_m Weight_kg  Catch_Rate      Body_Style  \n",
       "0             False     0.71       6.9          45       quadruped  \n",
       "1             False     0.99      13.0          45       quadruped  \n",
       "2              True     2.01     100.0          45       quadruped  \n",
       "3             False     0.61       8.5          45  bipedal_tailed  \n",
       "4             False     1.09      19.0          45  bipedal_tailed  \n",
       "\n",
       "[5 rows x 23 columns]"
      ]
     },
     "execution_count": 6,
     "metadata": {},
     "output_type": "execute_result"
    }
   ],
   "source": [
    "import matplotlib.pyplot as plt\n",
    "import pandas as pd\n",
    "df = pd.read_csv('pokemon_alopez247.csv') \n",
    " \n",
    "df.head()"
   ]
  },
  {
   "cell_type": "code",
   "execution_count": 7,
   "id": "258f215b",
   "metadata": {},
   "outputs": [
    {
     "name": "stdout",
     "output_type": "stream",
     "text": [
      "[['Bug' 63]\n",
      " ['Dark' 28]\n",
      " ['Dragon' 24]\n",
      " ['Electric' 36]\n",
      " ['Fairy' 17]\n",
      " ['Fighting' 25]\n",
      " ['Fire' 47]\n",
      " ['Flying' 3]\n",
      " ['Ghost' 23]\n",
      " ['Grass' 66]\n",
      " ['Ground' 30]\n",
      " ['Ice' 23]\n",
      " ['Normal' 93]\n",
      " ['Poison' 28]\n",
      " ['Psychic' 47]\n",
      " ['Rock' 41]\n",
      " ['Steel' 22]\n",
      " ['Water' 105]]\n",
      "18\n",
      "['Bug' 'Dark' 'Dragon' 'Electric' 'Fairy' 'Fighting' 'Fire' 'Flying'\n",
      " 'Ghost' 'Grass' 'Ground' 'Ice' 'Normal' 'Poison' 'Psychic' 'Rock' 'Steel'\n",
      " 'Water']\n",
      "[63 28 24 36 17 25 47 3 23 66 30 23 93 28 47 41 22 105]\n"
     ]
    },
    {
     "name": "stderr",
     "output_type": "stream",
     "text": [
      "C:\\Users\\ACER\\AppData\\Local\\Temp\\ipykernel_10164\\3980082197.py:4: DeprecationWarning: `itemfreq` is deprecated!\n",
      "`itemfreq` is deprecated and will be removed in a future version. Use instead `np.unique(..., return_counts=True)`\n",
      "  type_1 = itemfreq(df.iloc[:,2])\n"
     ]
    }
   ],
   "source": [
    "           \n",
    "from scipy.stats import itemfreq\n",
    "# Retrieve a list of group types against the\n",
    "# number of pokemon(s) belonging to that group\n",
    "type_1 = itemfreq(df.iloc[:,2])\n",
    "print(type_1)\n",
    "# Total number of distinct groups\n",
    "type_1_grps = len(type_1)\n",
    "print(type_1_grps)\n",
    "# Names of group\n",
    "type_1_names = type_1[:,0]\n",
    "print(type_1_names)\n",
    "# Pokemon count particular to each group\n",
    "type_1_count = type_1[:,1]\n",
    "print(type_1_count)\n"
   ]
  },
  {
   "cell_type": "code",
   "execution_count": 8,
   "id": "c651e6df",
   "metadata": {},
   "outputs": [
    {
     "data": {
      "text/plain": [
       "([<matplotlib.axis.XTick at 0x284e3e22940>,\n",
       "  <matplotlib.axis.XTick at 0x284e3e22910>,\n",
       "  <matplotlib.axis.XTick at 0x284e3e0e4c0>,\n",
       "  <matplotlib.axis.XTick at 0x284e5ea1370>,\n",
       "  <matplotlib.axis.XTick at 0x284e5ea1ac0>,\n",
       "  <matplotlib.axis.XTick at 0x284e5ea1760>,\n",
       "  <matplotlib.axis.XTick at 0x284e5eaa400>,\n",
       "  <matplotlib.axis.XTick at 0x284e5eaab50>,\n",
       "  <matplotlib.axis.XTick at 0x284e5eaf2e0>,\n",
       "  <matplotlib.axis.XTick at 0x284e5eafa30>,\n",
       "  <matplotlib.axis.XTick at 0x284e5eb61c0>,\n",
       "  <matplotlib.axis.XTick at 0x284e5eafe20>,\n",
       "  <matplotlib.axis.XTick at 0x284e5eaadf0>,\n",
       "  <matplotlib.axis.XTick at 0x284e5eb6a60>,\n",
       "  <matplotlib.axis.XTick at 0x284e5ebf040>,\n",
       "  <matplotlib.axis.XTick at 0x284e5ebf640>,\n",
       "  <matplotlib.axis.XTick at 0x284e5ebfd90>,\n",
       "  <matplotlib.axis.XTick at 0x284e5ec5520>],\n",
       " [Text(0.25, 0, 'Bug'),\n",
       "  Text(1.25, 0, 'Dark'),\n",
       "  Text(2.25, 0, 'Dragon'),\n",
       "  Text(3.25, 0, 'Electric'),\n",
       "  Text(4.25, 0, 'Fairy'),\n",
       "  Text(5.25, 0, 'Fighting'),\n",
       "  Text(6.25, 0, 'Fire'),\n",
       "  Text(7.25, 0, 'Flying'),\n",
       "  Text(8.25, 0, 'Ghost'),\n",
       "  Text(9.25, 0, 'Grass'),\n",
       "  Text(10.25, 0, 'Ground'),\n",
       "  Text(11.25, 0, 'Ice'),\n",
       "  Text(12.25, 0, 'Normal'),\n",
       "  Text(13.25, 0, 'Poison'),\n",
       "  Text(14.25, 0, 'Psychic'),\n",
       "  Text(15.25, 0, 'Rock'),\n",
       "  Text(16.25, 0, 'Steel'),\n",
       "  Text(17.25, 0, 'Water')])"
      ]
     },
     "execution_count": 8,
     "metadata": {},
     "output_type": "execute_result"
    },
    {
     "data": {
      "image/png": "[encoded data removed]",
      "text/plain": [
       "<Figure size 432x288 with 1 Axes>"
      ]
     },
     "metadata": {
      "needs_background": "light"
     },
     "output_type": "display_data"
    }
   ],
   "source": [
    "import numpy as np  \n",
    "type_1_grps = np.arange(type_1_grps)\n",
    "bar_width = 0.5\n",
    "plt.bar(type_1_grps, type_1_count, bar_width,\n",
    "                 alpha = 0.5,   # tranparency factor\n",
    "                 color = 'g',   # color factor\n",
    "                 label='Pokemon count respective to their Type_1')\n",
    "plt.legend(loc='best')\n",
    "plt.xticks(type_1_grps + bar_width/2, type_1_names)\n",
    " \n"
   ]
  },
  {
   "cell_type": "code",
   "execution_count": 9,
   "id": "c3e4f068",
   "metadata": {},
   "outputs": [],
   "source": [
    "           \n",
    "import random\n",
    "import numpy as np\n",
    "# Creating 18 random colors range (0 - 1)\n",
    "clrs = np.linspace( 0, 1, 18 )\n",
    "random.shuffle(clrs)\n",
    "# Creating final list of 18 random colors\n",
    "colors = []\n",
    "for i in range(0, 72, 4):\n",
    "    idx = np.arange( 0, 18, 1 )\n",
    "    random.shuffle(idx)\n",
    "    r = clrs[idx[0]]\n",
    "    g = clrs[idx[1]]\n",
    "    b = clrs[idx[2]]\n",
    "    a = clrs[idx[3]]\n",
    "    colors.append([r, g, b, a])\n",
    "     \n"
   ]
  },
  {
   "cell_type": "code",
   "execution_count": 12,
   "id": "f5db5052",
   "metadata": {},
   "outputs": [
    {
     "data": {
      "text/plain": [
       "(0.0, 130.0)"
      ]
     },
     "execution_count": 12,
     "metadata": {},
     "output_type": "execute_result"
    },
    {
     "data": {
      "image/png": "[encoded data removed]",
      "text/plain": [
       "<Figure size 432x288 with 1 Axes>"
      ]
     },
     "metadata": {
      "needs_background": "light"
     },
     "output_type": "display_data"
    }
   ],
   "source": [
    "           \n",
    "bar_graph = plt.bar(type_1_grps, type_1_count, bar_width,\n",
    "                 alpha = 0.5,   # tranparency factor\n",
    "                 color = colors)   # color factor\n",
    "           \n",
    "plt.legend(bar_graph, \n",
    "           type_1_names,                    # List of group names\n",
    "           bbox_to_anchor=(1.128, 1.015))   # Position of legend\n",
    "           \n",
    "plt.xticks(type_1_grps + bar_width/2, type_1_names)\n",
    "plt.xlabel('Type')\n",
    "plt.ylabel('Pokemon count')\n",
    "plt.title('Number of Pokemon per Type_1')\n",
    "plt.grid()\n",
    "plt.ylim(0,130)                 \n"
   ]
  },
  {
   "cell_type": "code",
   "execution_count": 13,
   "id": "c4c31f68",
   "metadata": {},
   "outputs": [
    {
     "name": "stdout",
     "output_type": "stream",
     "text": [
      "  Type_1  Attack  Defense  Speed  HP\n",
      "0  Grass      49       49     45  45\n",
      "1  Grass      62       63     60  60\n",
      "2  Grass      82       83     80  80\n",
      "3   Fire      52       43     65  39\n",
      "4   Fire      64       58     80  58\n"
     ]
    }
   ],
   "source": [
    "           \n",
    "df_pie = df[['Type_1', 'Attack', 'Defense', 'Speed', 'HP']].copy()\n",
    "print(df_pie.head())\n",
    " \n"
   ]
  },
  {
   "cell_type": "code",
   "execution_count": 14,
   "id": "3a2b4168",
   "metadata": {},
   "outputs": [
    {
     "name": "stdout",
     "output_type": "stream",
     "text": [
      "[['Water' 105]\n",
      " ['Normal' 93]\n",
      " ['Grass' 66]\n",
      " ['Bug' 63]]\n"
     ]
    },
    {
     "name": "stderr",
     "output_type": "stream",
     "text": [
      "C:\\Users\\ACER\\AppData\\Local\\Temp\\ipykernel_10164\\2005450647.py:2: DeprecationWarning: `itemfreq` is deprecated!\n",
      "`itemfreq` is deprecated and will be removed in a future version. Use instead `np.unique(..., return_counts=True)`\n",
      "  frequent_grp = itemfreq(df_pie.iloc[:,0])\n"
     ]
    }
   ],
   "source": [
    "           \n",
    "from scipy.stats import itemfreq\n",
    "frequent_grp = itemfreq(df_pie.iloc[:,0])\n",
    "frequent_grp = np.array(sorted(frequent_grp, key=lambda x: x[1]))[::-1][0:4,:]\n",
    "print(frequent_grp)\n",
    " \n"
   ]
  },
  {
   "cell_type": "code",
   "execution_count": 15,
   "id": "5e91bf32",
   "metadata": {},
   "outputs": [
    {
     "name": "stdout",
     "output_type": "stream",
     "text": [
      "     Type_1  Attack  Defense  Speed   HP\n",
      "0     Grass      49       49     45   45\n",
      "1     Grass      62       63     60   60\n",
      "2     Grass      82       83     80   80\n",
      "6     Water      48       65     43   44\n",
      "7     Water      63       80     58   59\n",
      "..      ...     ...      ...    ...  ...\n",
      "671   Grass      65       48     52   66\n",
      "672   Grass     100       62     68  123\n",
      "675  Normal      80       60    102   75\n",
      "691   Water      53       62     44   50\n",
      "692   Water      73       88     59   71\n",
      "\n",
      "[327 rows x 5 columns]\n"
     ]
    },
    {
     "name": "stderr",
     "output_type": "stream",
     "text": [
      "C:\\Users\\ACER\\AppData\\Local\\Temp\\ipykernel_10164\\2520832553.py:1: UserWarning: This pattern is interpreted as a regular expression, and has match groups. To actually get the groups, use str.extract.\n",
      "  df_pie = df_pie.loc[df_pie.loc[:,'Type_1'].str.contains(r'(Water|Normal|Grass|Bug)')]\n"
     ]
    }
   ],
   "source": [
    "           \n",
    "df_pie = df_pie.loc[df_pie.loc[:,'Type_1'].str.contains(r'(Water|Normal|Grass|Bug)')]\n",
    "print(df_pie)\n",
    " \n"
   ]
  },
  {
   "cell_type": "code",
   "execution_count": 16,
   "id": "169d8988",
   "metadata": {},
   "outputs": [
    {
     "name": "stdout",
     "output_type": "stream",
     "text": [
      "['Water' 'Normal' 'Grass' 'Bug']\n",
      "           Attack    Defense      Speed         HP\n",
      "Type_1                                            \n",
      "Bug     65.222222  67.698413  60.063492  55.952381\n",
      "Grass   70.909091  69.363636  59.893939  66.196970\n",
      "Normal  71.731183  57.795699  69.655914  76.526882\n",
      "Water   71.047619  70.485714  65.009524  70.866667\n"
     ]
    }
   ],
   "source": [
    "           \n",
    "# Names of the group\n",
    "type_1_names = frequent_grp[:,0]\n",
    "print(type_1_names)\n",
    "# Mean of samples for each feature corresponding to all 4 group \n",
    "df_grp = df_pie.groupby('Type_1').mean()\n",
    "print(df_grp)\n"
   ]
  },
  {
   "cell_type": "code",
   "execution_count": 17,
   "id": "3c28150a",
   "metadata": {},
   "outputs": [
    {
     "data": {
      "text/plain": [
       "Text(0.5, 0.98, 'Comparing major features of 4 most frequent Pokemon Group')"
      ]
     },
     "execution_count": 17,
     "metadata": {},
     "output_type": "execute_result"
    },
    {
     "data": {
      "image/png": "[encoded data removed]",
      "text/plain": [
       "<Figure size 432x288 with 4 Axes>"
      ]
     },
     "metadata": {},
     "output_type": "display_data"
    }
   ],
   "source": [
    "           \n",
    "names = df_grp.columns\n",
    "colors = ['gold', 'lightcoral', 'yellowgreen', 'lightskyblue']\n",
    "explode = (0, 0, 0, 0.1)  # takes out only the 4th slice \n",
    "fig, [[ax1, ax2], [ax3, ax4]] = plt.subplots(nrows=2, ncols=2)\n",
    "ax = [ax1, ax2, ax3, ax4]\n",
    "for i in range(0,4):\n",
    "    percent = df_grp.iloc[i,:]\n",
    "    ax[i].pie(percent, explode = explode,\n",
    "            labels = names, colors = colors,\n",
    "            autopct='%.2f%%',   # display value\n",
    "            shadow=True,\n",
    "            startangle=90)\n",
    "    ax[i].set_aspect('equal')\n",
    "    ax[i].set_title(type_1_names[i])\n",
    "plt.suptitle('Comparing major features of 4 most frequent Pokemon Group',\n",
    "             fontsize = 14,\n",
    "             fontweight = 'bold')"
   ]
  },
  {
   "cell_type": "code",
   "execution_count": 21,
   "id": "ad4d875d",
   "metadata": {},
   "outputs": [
    {
     "data": {
      "text/plain": [
       "<Figure size 360x288 with 0 Axes>"
      ]
     },
     "metadata": {},
     "output_type": "display_data"
    }
   ],
   "source": [
    "           \n",
    "import numpy as np\n",
    "import matplotlib.pyplot as plt\n",
    "from matplotlib import animation\n",
    "   \n",
    "n = 30\n",
    "x = np.arange(0,1,0.001)\n",
    "y = np.ones( (1000,n) )\n",
    "for i in range(0,n):\n",
    "    y[:,i] = np.sin(2 * np.pi * x) * i+1\n",
    "def func(arg):\n",
    "     plt.cla()   #Clear axis\n",
    "     plt.plot(y[:,arg])\n",
    "     plt.ylim(-30,30)\n",
    "fig = plt.figure(figsize=(5,4))\n",
    "      \n",
    "to_save = animation.FuncAnimation(fig, func, frames=30)\n",
    "plt.show()\n"
   ]
  },
  {
   "cell_type": "code",
   "execution_count": 24,
   "id": "25b4fe37",
   "metadata": {},
   "outputs": [
    {
     "data": {
      "image/png": "[encoded data removed]",
      "text/plain": [
       "<Figure size 432x288 with 1 Axes>"
      ]
     },
     "metadata": {
      "needs_background": "light"
     },
     "output_type": "display_data"
    }
   ],
   "source": [
    "to_save.save('animation.gif', writer='pillow')"
   ]
  },
  {
   "cell_type": "code",
   "execution_count": 25,
   "id": "32743e16",
   "metadata": {},
   "outputs": [
    {
     "name": "stdout",
     "output_type": "stream",
     "text": [
      "0    318\n",
      "1    405\n",
      "2    525\n",
      "3    309\n",
      "Name: Total, dtype: int64\n",
      "0    45\n",
      "1    45\n",
      "2    45\n",
      "3    45\n",
      "Name: Catch_Rate, dtype: int64\n"
     ]
    },
    {
     "data": {
      "text/plain": [
       "<matplotlib.legend.Legend at 0x284e9811d90>"
      ]
     },
     "execution_count": 25,
     "metadata": {},
     "output_type": "execute_result"
    },
    {
     "data": {
      "image/png": "[encoded data removed]",
      "text/plain": [
       "<Figure size 432x288 with 1 Axes>"
      ]
     },
     "metadata": {
      "needs_background": "light"
     },
     "output_type": "display_data"
    }
   ],
   "source": [
    "        \n",
    "import pandas as pd\n",
    "import matplotlib.pyplot as plt\n",
    "df = pd.read_csv('pokemon_alopez247.csv')\n",
    "tot_power = df.iloc[:,4]\n",
    "print(tot_power.head(4))\n",
    "catch_rate = df.iloc[:,21]\n",
    "print(catch_rate.head(4))\n",
    "fig, ax = plt.subplots()\n",
    "p = ax.scatter(catch_rate, tot_power, c = 'g')\n",
    "ax.grid()\n",
    "ax.set_xlabel('Catch Rate')\n",
    "ax.set_ylabel('Total Power')\n",
    "ax.set_title('Pokemon Catch Rate vs their Power')\n",
    "plt.legend([p],['Pokemons'])"
   ]
  },
  {
   "cell_type": "code",
   "execution_count": 27,
   "id": "08c14e02",
   "metadata": {},
   "outputs": [],
   "source": [
    "           \n",
    "import numpy as np\n",
    "import pandas as pd\n",
    "import matplotlib.pyplot as plt\n",
    "df = pd.read_csv('pokemon_alopez247.csv')\n",
    "bulbasaur = list(df.iloc[0,4:11])\n",
    "charmander = list(df.iloc[3,4:11])\n",
    "squirtle = list(df.iloc[6,4:11])\n",
    "pokets = [bulbasaur, charmander, squirtle]\n",
    "# Converting height from meters to inches\n",
    "# Weight remains in kg\n",
    "bul_hw = [df.iloc[0,19]*3.281, df.iloc[0,20]]\n",
    "char_hw = [df.iloc[3,19]*3.281, df.iloc[3,20]]\n",
    "squ_hw =  [df.iloc[6,19]*3.281, df.iloc[6,20]]\n",
    "hw = [bul_hw, char_hw, squ_hw]\n",
    " \n"
   ]
  },
  {
   "cell_type": "code",
   "execution_count": 28,
   "id": "cfb95d72",
   "metadata": {},
   "outputs": [
    {
     "data": {
      "text/plain": [
       "(-0.3, 6.3)"
      ]
     },
     "execution_count": 28,
     "metadata": {},
     "output_type": "execute_result"
    },
    {
     "data": {
      "image/png": "[encoded data removed]",
      "text/plain": [
       "<Figure size 432x288 with 1 Axes>"
      ]
     },
     "metadata": {
      "needs_background": "light"
     },
     "output_type": "display_data"
    }
   ],
   "source": [
    "           \n",
    "fig = plt.figure(0)\n",
    "# Line plot\n",
    "ax1 = plt.subplot2grid((4,3), (0,0), colspan=3)\n",
    "ax1.plot(bulbasaur,'g-',bulbasaur,'go')\n",
    "ax1.plot(charmander,'r-',charmander,'ro')\n",
    "ax1.plot(squirtle,'b-',squirtle,'bo')\n",
    "ax1.set_xlim(-0.3,6.3)\n",
    " "
   ]
  },
  {
   "cell_type": "code",
   "execution_count": 29,
   "id": "c6e82059",
   "metadata": {},
   "outputs": [],
   "source": [
    "           \n",
    "text_x_coord = [0.045, .19, 0.34, 0.49, 0.64, 0.795, 0.945]\n",
    "text_y_coord = [0.7, 0.57, 0.65, 0.75, 0.75, 0.75, 0.72]\n",
    "rot = [0, 45, 45, 45, 45, 45, 45]\n",
    "txt = [r'$T_{OTAL}$', r'$HP$', r'$A_{TTACK}$', r'$D_{EFENSE}$',\n",
    "       r'$S_{P}\\_A_{TK}$',r'$S_{P}\\_D_{EF}$',r'$S_{PEED}$']\n",
    "for i in range(0, 7):\n",
    "    ax1.text(text_x_coord[i], text_y_coord[i], txt[i],\n",
    "             transform = ax1.transAxes,  # makes width and height in percentage\n",
    "             va = 'top',\n",
    "             rotation = rot[i],\n",
    "             bbox = dict(\n",
    "                     boxstyle = 'round',\n",
    "                     facecolor = 'wheat',\n",
    "                     alpha = 0.78))  # alpha -> transparency"
   ]
  },
  {
   "cell_type": "code",
   "execution_count": 30,
   "id": "5cba97e4",
   "metadata": {},
   "outputs": [
    {
     "data": {
      "image/png": "[encoded data removed]",
      "text/plain": [
       "<Figure size 432x288 with 3 Axes>"
      ]
     },
     "metadata": {
      "needs_background": "light"
     },
     "output_type": "display_data"
    }
   ],
   "source": [
    "# continuing from previous code\n",
    "ax2 = plt.subplot2grid((4,3), (1,0), colspan=1)\n",
    "ax3 = plt.subplot2grid((4,3), (2,0), colspan=1)\n",
    "ax4 = plt.subplot2grid((4,3), (3,0), colspan=1)\n",
    "ax = [ax2, ax3, ax4]\n",
    "colors = ['g', 'r', 'b']\n",
    "for i in range(0, 3):\n",
    "    bp = ax[i].boxplot(pokets[i][1:],patch_artist=True)\n",
    "    # Adding colors to edges\n",
    "    for element in ['boxes', 'whiskers', 'fliers', 'means', 'medians', 'caps']:\n",
    "            plt.setp(bp[element], color='k')\n",
    "    # Adding color inside the box\n",
    "    for patch in bp['boxes']:\n",
    "        patch.set(facecolor=colors[i])\n",
    "    ax[i].set_ylim(35,70)  \n",
    "              \n"
   ]
  },
  {
   "cell_type": "code",
   "execution_count": 31,
   "id": "eafeb25c",
   "metadata": {},
   "outputs": [
    {
     "data": {
      "text/plain": [
       "Text(1.2, 60, 'Median')"
      ]
     },
     "execution_count": 31,
     "metadata": {},
     "output_type": "execute_result"
    }
   ],
   "source": [
    "ax3.annotate('Median', xy=(1.09, 51), \n",
    "              xytext=(1.2, 60),\n",
    "            arrowprops=dict(facecolor='wheat', \n",
    "                            shrink=0.001),)\n",
    "        \n"
   ]
  },
  {
   "cell_type": "code",
   "execution_count": 33,
   "id": "ad923b16",
   "metadata": {},
   "outputs": [
    {
     "data": {
      "text/plain": [
       "<matplotlib.legend.Legend at 0x284e9a6ff70>"
      ]
     },
     "execution_count": 33,
     "metadata": {},
     "output_type": "execute_result"
    },
    {
     "data": {
      "image/png": "[encoded data removed]",
      "text/plain": [
       "<Figure size 576x432 with 1 Axes>"
      ]
     },
     "metadata": {
      "needs_background": "light"
     },
     "output_type": "display_data"
    }
   ],
   "source": [
    "import numpy as np\n",
    "import matplotlib.pyplot as plt\n",
    "\n",
    "# Generate x values\n",
    "x = np.arange(0.0, 5.0, 0.1)\n",
    "\n",
    "# Calculate y values using the formula\n",
    "y = np.cos(2 * np.pi * x) * np.exp(-x)\n",
    "\n",
    "# Create the plot\n",
    "plt.figure(figsize=(8, 6))\n",
    "plt.plot(x, y, label='y = cos(2πx) * exp(-x)', color='blue')\n",
    "\n",
    "# Add labels and title\n",
    "plt.xlabel('x')\n",
    "plt.ylabel('y')\n",
    "plt.title('Plot of y = cos(2πx) * exp(-x)')\n",
    "plt.legend()\n",
    "\n",
    "# Show\n"
   ]
  },
  {
   "cell_type": "code",
   "execution_count": 38,
   "id": "4ced088f",
   "metadata": {},
   "outputs": [
    {
     "data": {
      "image/png": "[encoded data removed]",
      "text/plain": [
       "<Figure size 432x288 with 1 Axes>"
      ]
     },
     "metadata": {},
     "output_type": "display_data"
    }
   ],
   "source": [
    "           \n",
    "# continuing from previous code\n",
    "ax5 = plt.subplot2grid((4,3), (1,1), colspan=2, rowspan = 3)\n",
    "bar_width = 0.2\n",
    "wdt = 0\n",
    "names = ['Bulbasaur','Charmander','Squirtle']\n",
    "for i in range(0, 3):\n",
    "    p=ax5.barh(np.arange(2) + wdt, hw[i],bar_width,\n",
    "             alpha = 0.5,\n",
    "             color = colors[i],\n",
    "             label = names[i])\n",
    "    wdt += bar_width\n",
    "ax5.legend(loc = 'lower right')\n",
    "ax5.set_xlim(0,12)\n",
    "ax5.set_ylim(-0.2,1.8)\n",
    "plt.yticks(np.arange(2) + (bar_width)*1.5, \n",
    "           ('Height', 'Weight'))\n",
    "plt.tight_layout() \n",
    "plt.style.use('seaborn-dark')\n"
   ]
  },
  {
   "cell_type": "code",
   "execution_count": 35,
   "id": "c3748636",
   "metadata": {},
   "outputs": [
    {
     "data": {
      "text/plain": [
       "<Figure size 432x288 with 0 Axes>"
      ]
     },
     "metadata": {},
     "output_type": "display_data"
    }
   ],
   "source": [
    "           \n",
    "\n"
   ]
  },
  {
   "cell_type": "code",
   "execution_count": 37,
   "id": "f9d58d65",
   "metadata": {},
   "outputs": [],
   "source": [
    "           \n",
    "\n",
    "\n"
   ]
  },
  {
   "cell_type": "code",
   "execution_count": null,
   "id": "592e891e",
   "metadata": {},
   "outputs": [],
   "source": []
  }
 ],
 "metadata": {
  "kernelspec": {
   "display_name": "Python 3 (ipykernel)",
   "language": "python",
   "name": "python3"
  },
  "language_info": {
   "codemirror_mode": {
    "name": "ipython",
    "version": 3
   },
   "file_extension": ".py",
   "mimetype": "text/x-python",
   "name": "python",
   "nbconvert_exporter": "python",
   "pygments_lexer": "ipython3",
   "version": "3.9.12"
  }
 },
 "nbformat": 4,
 "nbformat_minor": 5
}
