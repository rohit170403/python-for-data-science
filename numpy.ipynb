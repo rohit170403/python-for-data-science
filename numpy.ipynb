{
 "cells": [
  {
   "cell_type": "code",
   "execution_count": 2,
   "id": "e7ceb7e3",
   "metadata": {},
   "outputs": [
    {
     "name": "stdout",
     "output_type": "stream",
     "text": [
      "[2 5 6 8]\n",
      "<class 'numpy.ndarray'>\n",
      "int32\n"
     ]
    }
   ],
   "source": [
    "import numpy as np\n",
    "arr = np.array([2,5,6,8], dtype = int)\n",
    "print(arr)\n",
    "# [2 5 6 8]\n",
    "print(type(arr))\n",
    "# class 'numpy.ndarray'\n",
    "print(np.result_type(arr))\n",
    "# int32 \n",
    " \n"
   ]
  },
  {
   "cell_type": "code",
   "execution_count": 4,
   "id": "5f347107",
   "metadata": {},
   "outputs": [
    {
     "name": "stdout",
     "output_type": "stream",
     "text": [
      "[0.   1.33 2.66 3.99 5.32 6.65 7.98 9.31]\n"
     ]
    }
   ],
   "source": [
    " \n",
    "''' Creation of an array with step size 1.33 between 0 - 10 '''\n",
    "print(np.arange(0, 10, 1.33, dtype = np.float64))\n",
    "\n"
   ]
  },
  {
   "cell_type": "code",
   "execution_count": 5,
   "id": "710ebbd8",
   "metadata": {},
   "outputs": [
    {
     "name": "stdout",
     "output_type": "stream",
     "text": [
      "[  0.  40.  80. 120. 160.]\n"
     ]
    }
   ],
   "source": [
    "''' Creation of an array with total 5 values between 0 - 160 '''\n",
    "print(np.linspace(0, 160, 5, dtype = np.float64))"
   ]
  },
  {
   "cell_type": "code",
   "execution_count": 6,
   "id": "6e917fb7",
   "metadata": {},
   "outputs": [
    {
     "name": "stdout",
     "output_type": "stream",
     "text": [
      "[[ 5  6  8]\n",
      " [45 12 52]]\n"
     ]
    }
   ],
   "source": [
    " \n",
    "''' Method I: Using array and reshape to convert array into matrix '''\n",
    "print(np.array([5,6,8,45,12,52]).reshape(2,3))\n",
    " "
   ]
  },
  {
   "cell_type": "code",
   "execution_count": 11,
   "id": "25c0e8fa",
   "metadata": {},
   "outputs": [
    {
     "name": "stdout",
     "output_type": "stream",
     "text": [
      "[[1. 0. 0.]\n",
      " [0. 1. 0.]\n",
      " [0. 0. 1.]]\n",
      "[[0. 0. 0.]\n",
      " [0. 0. 0.]\n",
      " [0. 0. 0.]\n",
      " [0. 0. 0.]]\n",
      "[[1. 1. 1.]\n",
      " [1. 1. 1.]\n",
      " [1. 1. 1.]]\n"
     ]
    }
   ],
   "source": [
    "\n",
    "''' Method III: Using misc. functions '''\n",
    "print(np.eye(3)) # Identity matrix\n",
    "\n",
    "print( np.zeros( (4,3) ) )\n",
    "\n",
    "print(np.ones( (3,3), dtype = np.float64 ))"
   ]
  },
  {
   "cell_type": "code",
   "execution_count": 12,
   "id": "e179f2b5",
   "metadata": {},
   "outputs": [
    {
     "name": "stdout",
     "output_type": "stream",
     "text": [
      "[[1 2]\n",
      " [3 4]]\n"
     ]
    }
   ],
   "source": [
    "''' Method II: Using matrix function '''\n",
    "print(np.matrix([[1,2],[3,4]]))"
   ]
  },
  {
   "cell_type": "code",
   "execution_count": 13,
   "id": "26619543",
   "metadata": {},
   "outputs": [
    {
     "name": "stdout",
     "output_type": "stream",
     "text": [
      "float64\n",
      "float64\n"
     ]
    }
   ],
   "source": [
    "import numpy as np\n",
    "\n",
    "arr1 = np.ones(10)\n",
    "arr2 = np.arange(10, dtype = np.float64)\n",
    "arr3 = arr1 + arr2\n",
    "print(np.result_type(arr1))\n",
    "print(np.result_type(arr3))\n",
    " "
   ]
  },
  {
   "cell_type": "code",
   "execution_count": 14,
   "id": "a396da2f",
   "metadata": {},
   "outputs": [
    {
     "name": "stdout",
     "output_type": "stream",
     "text": [
      "(4,)\n"
     ]
    }
   ],
   "source": [
    "arr = np.arange(4)\n",
    "arr.reshape(2,2)\n",
    "print(arr.shape)"
   ]
  },
  {
   "cell_type": "code",
   "execution_count": 15,
   "id": "94bed335",
   "metadata": {},
   "outputs": [
    {
     "name": "stdout",
     "output_type": "stream",
     "text": [
      "(4, 1)\n"
     ]
    }
   ],
   "source": [
    "arr = np.arange(4).reshape(4,-1)\n",
    "print(arr.shape)"
   ]
  },
  {
   "cell_type": "code",
   "execution_count": 16,
   "id": "0fba2ef1",
   "metadata": {},
   "outputs": [
    {
     "name": "stdout",
     "output_type": "stream",
     "text": [
      "[[2 5 6 5]\n",
      " [4 8 6 5]]\n"
     ]
    }
   ],
   "source": [
    "S_X = np.array([[2, 5, 6, 5],\n",
    "               [4, 8, 6, 5]])\n",
    "print(S_X)"
   ]
  },
  {
   "cell_type": "code",
   "execution_count": 17,
   "id": "b75fc8c0",
   "metadata": {},
   "outputs": [
    {
     "name": "stdout",
     "output_type": "stream",
     "text": [
      "[[6 7 5 9]\n",
      " [7 5 6 4]]\n"
     ]
    }
   ],
   "source": [
    "S_Y = np.array([[6, 7, 5, 9],\n",
    "               [7, 5, 6, 4]])\n",
    "print(S_Y)"
   ]
  },
  {
   "cell_type": "code",
   "execution_count": 18,
   "id": "6bd8559a",
   "metadata": {},
   "outputs": [
    {
     "name": "stdout",
     "output_type": "stream",
     "text": [
      "[[ 4  2 -1  4]\n",
      " [ 3 -3  0 -1]]\n"
     ]
    }
   ],
   "source": [
    " \n",
    "print(S_Y - S_X)\n"
   ]
  },
  {
   "cell_type": "code",
   "execution_count": 19,
   "id": "a330cdbd",
   "metadata": {},
   "outputs": [
    {
     "name": "stdout",
     "output_type": "stream",
     "text": [
      "[[False False False False]\n",
      " [False False False False]]\n"
     ]
    }
   ],
   "source": [
    "print(S_X < 2)"
   ]
  },
  {
   "cell_type": "code",
   "execution_count": 20,
   "id": "dda9678e",
   "metadata": {},
   "outputs": [
    {
     "name": "stdout",
     "output_type": "stream",
     "text": [
      "[[False False False False]\n",
      " [False False False False]]\n"
     ]
    }
   ],
   "source": [
    "twos_mat = np.ones((2, 4)) * 2\n",
    "print(np.less(S_Y, twos_mat))"
   ]
  },
  {
   "cell_type": "code",
   "execution_count": 2,
   "id": "b854cd27",
   "metadata": {},
   "outputs": [
    {
     "name": "stdout",
     "output_type": "stream",
     "text": [
      "True\n",
      "False\n",
      "False\n"
     ]
    }
   ],
   "source": [
    "import numpy as  np\n",
    "print(None == None)\n",
    "print(np.nan == np.NaN)\n",
    "print(np.nan == np.nan)"
   ]
  },
  {
   "cell_type": "code",
   "execution_count": null,
   "id": "e7ba1618",
   "metadata": {},
   "outputs": [],
   "source": []
  }
 ],
 "metadata": {
  "kernelspec": {
   "display_name": "Python 3 (ipykernel)",
   "language": "python",
   "name": "python3"
  },
  "language_info": {
   "codemirror_mode": {
    "name": "ipython",
    "version": 3
   },
   "file_extension": ".py",
   "mimetype": "text/x-python",
   "name": "python",
   "nbconvert_exporter": "python",
   "pygments_lexer": "ipython3",
   "version": "3.9.12"
  }
 },
 "nbformat": 4,
 "nbformat_minor": 5
}
